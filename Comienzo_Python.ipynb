{
 "cells": [
  {
   "cell_type": "markdown",
   "id": "c5253010-db0e-4847-9db1-018877748660",
   "metadata": {},
   "source": [
    "## Una muy breve introducción a la programación con Python \n",
    "\n",
    "Este notebook esté construido a partir del uso propio del lenguaje de Python, tomando como referencias distintas fuentes de consulta y trabajando bajo la idea de hacer una serie de tutoriales faciles comenzando con las herramientas más básicas de Python hasta hacer uso progresivamente de algunas de las librerias comunmente utilizadas en Python.\n",
    "\n",
    "#### Un poco de Python:\n",
    "Python es uno de los lenguajes más populares actualmente, es muy poderoso, versatil y para algunas personas fácil de aprender, no solo eso sino al ser un lenguaje muy utilizado y de uso libre, el soporte dado por la comunidad 'Pythonista' es muy amplio y puedes encontrar un sin fin de información así como tutoriales y guías de uso que te pueden sacar de algún apuro en algún determinado momento.\n",
    "\n",
    "Aunque los tutoriales posteriores estarán más enfocado hacía las geociencias y uso de archivos .nc (NetCDF 4) ya que es la utilidad que le he dado, es posible hacer la migración hacia algunas otras ciencias."
   ]
  },
  {
   "cell_type": "markdown",
   "id": "77922e9d-eae2-4e5e-9b73-ca99a34c0637",
   "metadata": {},
   "source": [
    "### Introducción a Python \n",
    "Desde el supuesto que ya tiene instalado el lenguaje de Python en tu computadora y hayas descargado alguna IDE o trabajes desde la terminal de tu equipo. Comenzaremos con la más básico de introducción a Python.\n",
    "\n",
    "#### 1.1 Variables en Python \n",
    "Dentro de ua variable podemos almacenar información que puede ser utilizada en un futuro, dentro de Python asignamos un valor a una variable usando el signo $\\textbf{=}$. Por ejemplo, si asignamos el valor de 26 a la variable `Edad`:"
   ]
  },
  {
   "cell_type": "code",
   "execution_count": 7,
   "id": "d8ee7f04-91d8-43bf-b5a7-c22c13c14582",
   "metadata": {},
   "outputs": [],
   "source": [
    "Edad = 28"
   ]
  },
  {
   "cell_type": "markdown",
   "id": "f071626b-7128-4a4d-a064-665a3b205a87",
   "metadata": {},
   "source": [
    "La variable llamada `Edad` ahora tiene almacenado el numero 28 y podemos acceder a ella llamandola y nos desplegaría en pantalla su valor. Hay que indicar que una variable puede contener distintos caracteres y puede ser tan corta o larga como desees, pero hay ciertas reglas que debe de mantener.\n",
    "\n",
    "Las variables pueden contener:\n",
    "\n",
    "* Letras, digitos y guiones,\n",
    "* no pueden empezar con algun digito,\n",
    "* Python difiere entre mayusculas o minusculas\n",
    "\n",
    "Por ejemplo:\n",
    "`Edad` es un nombre válido pero `1_Edad` no lo es, así como `Edad` $\\neq$ `edad`"
   ]
  },
  {
   "cell_type": "markdown",
   "id": "583874cf-4b5e-4cb4-87ee-7eba2ecf2679",
   "metadata": {},
   "source": [
    "#### 1.2 Tipos de datos \n",
    "Python acepta como muhcos otros lenguajes, distintos tipos de datos, los más comunes son:\n",
    "* números enteros (int),\n",
    "* números decimales (float) y \n",
    "* cadena de texto (strings)\n",
    "\n",
    "Definiendo las proximas variables:"
   ]
  },
  {
   "cell_type": "code",
   "execution_count": 70,
   "id": "ccb03fed-d11c-4920-aecc-84ece1fcd54f",
   "metadata": {
    "tags": []
   },
   "outputs": [],
   "source": [
    "Nombre, Edad, Altura = 'Pedro', 29 , 185.25"
   ]
  },
  {
   "cell_type": "code",
   "execution_count": 71,
   "id": "4056ae54-346e-4e8f-9dc5-205f2a434b09",
   "metadata": {
    "tags": []
   },
   "outputs": [
    {
     "data": {
      "text/plain": [
       "(str, int, float)"
      ]
     },
     "execution_count": 71,
     "metadata": {},
     "output_type": "execute_result"
    }
   ],
   "source": [
    "type(Nombre), type(Edad), type(Altura)"
   ]
  },
  {
   "cell_type": "markdown",
   "id": "e466e7ab-ead4-412a-b6f4-4bcf2b2f84b0",
   "metadata": {},
   "source": [
    "Dos cosas con las líneas anteriores.\n",
    "Como puedes ver, podemos declara mas de una variable en el mismo renglon al separarlo por `,` y como segundo, usamos la palabra reselvada `type` para conocer el tipo de dato que contiene la variable.\n",
    "\n",
    "#### Operador `=`\n",
    "El operador de asignacion `=` puede ser utilizado para incrementar y/o cambiar el valor de una variable \n",
    "por ejemplo:"
   ]
  },
  {
   "cell_type": "code",
   "execution_count": 21,
   "id": "6e6b8e51-264f-4567-8d59-c426f89c52a9",
   "metadata": {
    "tags": []
   },
   "outputs": [
    {
     "name": "stdout",
     "output_type": "stream",
     "text": [
      "17\n"
     ]
    }
   ],
   "source": [
    "a = 15\n",
    "a = a + 2\n",
    "print(a) #El valor actual de la variable 'a', ha incrementado dos unidadesa"
   ]
  },
  {
   "cell_type": "markdown",
   "id": "6a186f67-2000-4325-8d2c-3835070a5af6",
   "metadata": {},
   "source": [
    "Una manera un poco diferente de asignar un nuevo valor con cualquier operador puede ser dado a partir de las siguientes formas:\n",
    "* `+=` \n",
    "* `-=` \n",
    "* `*=` \n",
    "* `/=`"
   ]
  },
  {
   "cell_type": "code",
   "execution_count": 109,
   "id": "876fb8c6-7129-4d1e-bc2d-0b2e126c3ba8",
   "metadata": {
    "tags": []
   },
   "outputs": [],
   "source": [
    "c , d = 4, 7.92 #Declaramos dos variables 'c' y 'd', con las cuales aplicaremos las diferentes maneras de asignación"
   ]
  },
  {
   "cell_type": "code",
   "execution_count": 30,
   "id": "d2034173-45a7-4840-af77-f1b47efe0f21",
   "metadata": {
    "tags": []
   },
   "outputs": [
    {
     "data": {
      "text/plain": [
       "8"
      ]
     },
     "execution_count": 30,
     "metadata": {},
     "output_type": "execute_result"
    }
   ],
   "source": [
    "c += 2 \n",
    "c"
   ]
  },
  {
   "cell_type": "code",
   "execution_count": 31,
   "id": "e41db5ce-f9f9-4f2d-a0be-3be4ef92afa2",
   "metadata": {
    "tags": []
   },
   "outputs": [
    {
     "data": {
      "text/plain": [
       "24"
      ]
     },
     "execution_count": 31,
     "metadata": {},
     "output_type": "execute_result"
    }
   ],
   "source": [
    "c *= 3\n",
    "c"
   ]
  },
  {
   "cell_type": "code",
   "execution_count": 32,
   "id": "fd70daee-354e-4785-8209-9b9cf2f68bcf",
   "metadata": {
    "tags": []
   },
   "outputs": [
    {
     "data": {
      "text/plain": [
       "-3.96"
      ]
     },
     "execution_count": 32,
     "metadata": {},
     "output_type": "execute_result"
    }
   ],
   "source": [
    "d /= -2\n",
    "d"
   ]
  },
  {
   "cell_type": "code",
   "execution_count": 33,
   "id": "747b9105-211a-4d88-88d8-4161ced84a58",
   "metadata": {
    "tags": []
   },
   "outputs": [
    {
     "data": {
      "text/plain": [
       "-7.96"
      ]
     },
     "execution_count": 33,
     "metadata": {},
     "output_type": "execute_result"
    }
   ],
   "source": [
    "d -= 4\n",
    "d"
   ]
  },
  {
   "cell_type": "markdown",
   "id": "4207a434-e0d8-4ede-b5ad-0fa08004d537",
   "metadata": {},
   "source": [
    "#### 1.3 Uso de variables\n",
    "La función y palabra reservada `print`, podemos visualizar el valor de las varibales antes declaradas."
   ]
  },
  {
   "cell_type": "code",
   "execution_count": 72,
   "id": "910555fe-c123-4e5f-8492-5531c210e679",
   "metadata": {
    "tags": []
   },
   "outputs": [
    {
     "name": "stdout",
     "output_type": "stream",
     "text": [
      "El nombre es: \n",
      " Pedro \n",
      " La edad es: \n",
      " 29 \n",
      " La altura es: \n",
      " 185.25\n"
     ]
    },
    {
     "data": {
      "text/plain": [
       "('Pedro', 29, 185.25)"
      ]
     },
     "execution_count": 72,
     "metadata": {},
     "output_type": "execute_result"
    }
   ],
   "source": [
    "print ('El nombre es: \\n',Nombre,'\\n La edad es: \\n', Edad,'\\n La altura es: \\n', Altura)\n",
    "# Aunque igual podemos llamarla sin print\n",
    "\n",
    "Nombre, Edad, Altura"
   ]
  },
  {
   "cell_type": "markdown",
   "id": "9e0c48fe-214c-494b-8e85-f3aae3db7da8",
   "metadata": {},
   "source": [
    "Dentro de `print` podemos hacer uso de operaciones aritmeticas entre las variables "
   ]
  },
  {
   "cell_type": "code",
   "execution_count": 73,
   "id": "e8e2a1b6-7e0c-4680-9141-b5e7d99636b2",
   "metadata": {
    "tags": []
   },
   "outputs": [
    {
     "name": "stdout",
     "output_type": "stream",
     "text": [
      "El doble de la edad es: 58 \n",
      " Pero la edad original es : 29\n"
     ]
    }
   ],
   "source": [
    "print ('El doble de la edad es:', Edad* 2, '\\n Pero la edad original es :', Edad)"
   ]
  },
  {
   "cell_type": "markdown",
   "id": "fdf67f93-7c6e-4da6-a7c7-b7600205be24",
   "metadata": {},
   "source": [
    "Lo anterior puede igual realizarce al asignar ese valor de la variable anterior a una nueva de nombre diferente "
   ]
  },
  {
   "cell_type": "code",
   "execution_count": 74,
   "id": "3b3eb088-a31a-4e3f-b651-e5e494a9311e",
   "metadata": {
    "tags": []
   },
   "outputs": [
    {
     "name": "stdout",
     "output_type": "stream",
     "text": [
      "La altura en cm es: 185.25 \n",
      " La altura en m es: 1.8525\n"
     ]
    }
   ],
   "source": [
    "Altura_m = Altura/100\n",
    "print ('La altura en cm es:', Altura, '\\n La altura en m es:', Altura_m)"
   ]
  },
  {
   "cell_type": "code",
   "execution_count": 77,
   "id": "568897e2-e92a-4157-a715-91aee1a10bcb",
   "metadata": {
    "tags": []
   },
   "outputs": [
    {
     "name": "stdout",
     "output_type": "stream",
     "text": [
      "Mi nombre es Victor Suarez\n",
      "Mi nombre es Victor y mi apellido Suarez\n"
     ]
    }
   ],
   "source": [
    "Nombre, Apellido= 'Victor', 'Suarez' #nuevas variables\n",
    "\n",
    "print('Mi nombre es', Nombre,Apellido)\n",
    "print('Mi nombre es',Nombre +' y mi apellido'+'',Apellido)"
   ]
  },
  {
   "cell_type": "code",
   "execution_count": 79,
   "id": "e696c382-be92-45ff-8c42-2698582967cd",
   "metadata": {
    "tags": []
   },
   "outputs": [
    {
     "data": {
      "text/plain": [
       "185"
      ]
     },
     "execution_count": 79,
     "metadata": {},
     "output_type": "execute_result"
    }
   ],
   "source": [
    "int(Altura) # podemos cambiar una variable 'float' a una variable 'str'"
   ]
  },
  {
   "cell_type": "markdown",
   "id": "f56af9f1-4bca-4054-ad73-3936f5c26180",
   "metadata": {
    "tags": []
   },
   "source": [
    "#### 1.4 Datos booleanos\n",
    "\n",
    "Los datos booleamos son una herramienta muy utilizada dentro de la programación con Python, los booleanos solo pueden tomar dos valores establecido `True` o `False`\n",
    "\n",
    "Correspondientemente al uso de los operadores booleanos, usamos los operadores lógicos\n",
    "* Comparación o igualdad: `==`\n",
    "\n",
    "* Desigualdad: `!=`\n",
    "\n",
    "* Mayor o igual que: `>=`\n",
    "\n",
    "* Menor o igual que: `<=`\n",
    "\n",
    "como en los proximos ejemplos:"
   ]
  },
  {
   "cell_type": "code",
   "execution_count": 7,
   "id": "5cc56420-6127-4359-ba87-da9040a8821a",
   "metadata": {
    "tags": []
   },
   "outputs": [
    {
     "name": "stdout",
     "output_type": "stream",
     "text": [
      "False \n",
      " True \n",
      "\n",
      "True \n",
      " False \n",
      " False \n",
      " True\n"
     ]
    }
   ],
   "source": [
    "x, y = 10, 20\n",
    "\n",
    "#Comparacion y desigualdad \n",
    "print (x == y,'\\n',x!=y, '\\n')\n",
    "\n",
    "#moyor y menor que \n",
    "print(x <= y,'\\n', y <= x ,'\\n', x >= y,'\\n', x <= y)"
   ]
  },
  {
   "cell_type": "markdown",
   "id": "cdb8e854-d325-4fde-a3ec-ad93b5381d8c",
   "metadata": {},
   "source": [
    "El uso más común de los booleanos se da en conjunto con el conjunto de sentencias condicionales `If`:\n",
    "* `If`\n",
    "* `If-else`\n",
    "* `If-elif-else`"
   ]
  },
  {
   "cell_type": "code",
   "execution_count": 10,
   "id": "615f33e0-fbfb-45ca-9548-83ddacc4bae5",
   "metadata": {
    "tags": []
   },
   "outputs": [
    {
     "name": "stdout",
     "output_type": "stream",
     "text": [
      "El valor de x es diferente de y\n"
     ]
    }
   ],
   "source": [
    "# If \n",
    "if x != y:\n",
    "    print('El valor de x es diferente de y')"
   ]
  },
  {
   "cell_type": "code",
   "execution_count": 16,
   "id": "cf55f02f-fc6d-41a4-8127-4c5cc695f91a",
   "metadata": {
    "tags": []
   },
   "outputs": [
    {
     "name": "stdout",
     "output_type": "stream",
     "text": [
      "x es menor que y\n"
     ]
    }
   ],
   "source": [
    "# Else \n",
    "if x >= y :\n",
    "    print ('x es mayor que y')\n",
    "else :\n",
    "    print ('x es menor que y')"
   ]
  },
  {
   "cell_type": "code",
   "execution_count": 18,
   "id": "6e82031b-04f8-4593-ab27-c4602c552d35",
   "metadata": {
    "tags": []
   },
   "outputs": [
    {
     "name": "stdout",
     "output_type": "stream",
     "text": [
      "x es diferente de y\n"
     ]
    }
   ],
   "source": [
    "#elif\n",
    "if x == y :\n",
    "    print ('x es igual a y')\n",
    "elif x != y:\n",
    "    print('x es diferente de y')\n",
    "else:\n",
    "    print('x tiene algún valor')"
   ]
  },
  {
   "cell_type": "markdown",
   "id": "4d751d93-c380-4669-aa6e-d0bc4926f0e2",
   "metadata": {},
   "source": [
    "### 2. Bucles en Python\n",
    "\n",
    "Dentro de Python podemos usar sentencias de control de flujo a través de las palabras reservadas `while` y `for`\n",
    "\n",
    "Veremos lo más básicos de ambas sentencias y la manera de como se utilizan.\n",
    "\n",
    "#### While \n",
    "La palabra reservada `while` es una sentencia de control de flujo que se utiliza para ejecutar un bloque de instrucciones de forma continua mientras la condición se siga evaluando en `True`. En pocas palabras, se ejecuta repetidamente el bloques mientras la condición establecida se siga cumpliendo.\n",
    "\n",
    "Su estructura es:\n",
    "\n",
    "$\\textit{$\\textbf{while}$ condición:}$\n",
    "    \n",
    "   * $\\textit{bloque de código}$\n"
   ]
  },
  {
   "cell_type": "code",
   "execution_count": 58,
   "id": "9465ef16-00bc-4441-b411-acf9226d1fba",
   "metadata": {
    "tags": []
   },
   "outputs": [
    {
     "name": "stdout",
     "output_type": "stream",
     "text": [
      "Tabla del 2:\n",
      "0\n",
      "2\n",
      "4\n",
      "6\n",
      "8\n",
      "10\n",
      "12\n",
      "14\n",
      "16\n",
      "18\n",
      "20\n"
     ]
    }
   ],
   "source": [
    "# Tablas de multiplicación\n",
    "num = 0\n",
    "print('Tabla del 2:')\n",
    "\n",
    "while num <= 10:\n",
    "    print(num * 2)\n",
    "    num += 1\n",
    "# print('Fin de la tabla, el total de secuencias fue',num-1)"
   ]
  },
  {
   "cell_type": "code",
   "execution_count": 73,
   "id": "4743704a-64a1-4281-b95d-99a4517da74c",
   "metadata": {
    "tags": []
   },
   "outputs": [
    {
     "name": "stdout",
     "output_type": "stream",
     "text": [
      "El numero 3 no se encuentra en la lista :(\n"
     ]
    }
   ],
   "source": [
    "valores = [8,9,7,6,5,2,4,8,6]\n",
    "\n",
    "enc = False\n",
    "indice = 0\n",
    "longitud = len(valores)\n",
    "\n",
    "while enc != True and indice < longitud:\n",
    "    valor = valores[indice]\n",
    "    if valor == 3:\n",
    "        enc = True\n",
    "    else:\n",
    "        indice += 1\n",
    "if enc == True:\n",
    "    print ('El numero 3 ha sido encontrado en el indice', indice+1)\n",
    "else:\n",
    "    print('El numero 3 no se encuentra en la lista :(')\n",
    "\n"
   ]
  },
  {
   "cell_type": "code",
   "execution_count": 75,
   "id": "134082d4-6fb9-4d01-90b4-c9d350f7bc17",
   "metadata": {
    "tags": []
   },
   "outputs": [
    {
     "name": "stdout",
     "output_type": "stream",
     "text": [
      "El numero 3 ha sido encontrado en el indice 10\n"
     ]
    }
   ],
   "source": [
    "valores = [8,9,7,6,5,10,4,8,9,3,4,8,6]\n",
    "\n",
    "enc = False\n",
    "indice = 0\n",
    "longitud = len(valores)\n",
    "\n",
    "while enc != True and indice < longitud:\n",
    "    valor = valores[indice]\n",
    "    if valor == 3:\n",
    "        enc = True\n",
    "    else:\n",
    "        indice += 1\n",
    "if enc == True:\n",
    "    print ('El numero 3 ha sido encontrado en el indice', indice+1)\n",
    "else:\n",
    "    print('El numero 3 no se encuentra en la lista :(')\n"
   ]
  },
  {
   "cell_type": "code",
   "execution_count": 68,
   "id": "b8a141ee-a738-4030-a79e-0a9e3e2ff6b2",
   "metadata": {
    "tags": []
   },
   "outputs": [
    {
     "name": "stdin",
     "output_type": "stream",
     "text": [
      "ingresa un numero para comenzar: 5\n"
     ]
    },
    {
     "name": "stdout",
     "output_type": "stream",
     "text": [
      "10\n"
     ]
    },
    {
     "name": "stdin",
     "output_type": "stream",
     "text": [
      "sigue ingresando algún número o 0 si deseas terminar 4\n"
     ]
    },
    {
     "name": "stdout",
     "output_type": "stream",
     "text": [
      "8\n"
     ]
    },
    {
     "name": "stdin",
     "output_type": "stream",
     "text": [
      "sigue ingresando algún número o 0 si deseas terminar 6\n"
     ]
    },
    {
     "name": "stdout",
     "output_type": "stream",
     "text": [
      "12\n"
     ]
    },
    {
     "name": "stdin",
     "output_type": "stream",
     "text": [
      "sigue ingresando algún número o 0 si deseas terminar 8\n"
     ]
    },
    {
     "name": "stdout",
     "output_type": "stream",
     "text": [
      "16\n"
     ]
    },
    {
     "name": "stdin",
     "output_type": "stream",
     "text": [
      "sigue ingresando algún número o 0 si deseas terminar 9\n"
     ]
    },
    {
     "name": "stdout",
     "output_type": "stream",
     "text": [
      "18\n"
     ]
    },
    {
     "name": "stdin",
     "output_type": "stream",
     "text": [
      "sigue ingresando algún número o 0 si deseas terminar 0\n"
     ]
    },
    {
     "name": "stdout",
     "output_type": "stream",
     "text": [
      "fin\n"
     ]
    }
   ],
   "source": [
    "entrada = int(input('ingresa un numero para comenzar:'))\n",
    "\n",
    "while entrada != 0:\n",
    "    print (entrada * 2)\n",
    "    entrada = int(input('sigue ingresando algún número o 0 si deseas terminar'))\n",
    "else:\n",
    "    entrada == 0\n",
    "    print ('fin')"
   ]
  },
  {
   "cell_type": "markdown",
   "id": "ea58b053-cc17-4c54-9076-685e5d07dad6",
   "metadata": {},
   "source": [
    "#### `for` en python \n",
    "`for` al igual que `while` se utiliza como un estructura de control, en este caso recorres los elementos de un objeto iterable como listas, tuplas , diccionarios etc. La diferencia con `while` es que aquí nosotros sabemos la longitud o el numero de veces que la sentencias se va a iterar dentro de la sentencia; más adelante veremos el uso de estos ciclos con la librería de `NumPy`\n",
    "\n",
    "La sintáxis de `for` es la siguiente:\n",
    "\n",
    "$\\textit{$\\textbf{for}$ <elem> in <iterable>:}$\n",
    "* $\\textit{El código}$"
   ]
  },
  {
   "cell_type": "code",
   "execution_count": 93,
   "id": "2e23fe09-28fd-4435-88e2-7895476838a7",
   "metadata": {
    "tags": []
   },
   "outputs": [
    {
     "name": "stdout",
     "output_type": "stream",
     "text": [
      "V\n",
      "i\n",
      "e\n",
      "r\n",
      "n\n",
      "e\n",
      "s\n",
      "contamos 7 letras\n"
     ]
    }
   ],
   "source": [
    "dia = 'Viernes' #Una variable dia con un 'n' numero de letras que pueden ser impresas individualmente\n",
    "cont = 0\n",
    "for elem in dia:\n",
    "    cont += 1\n",
    "    print(elem)\n",
    "print('contamos',cont,'letras') #Al final podemos contar el numero total de elementos almacenado en 'cont'"
   ]
  },
  {
   "cell_type": "markdown",
   "id": "692c5023-dc97-48f5-8393-d5337b58eaa0",
   "metadata": {},
   "source": [
    "El loop mostrado a través del ciclo `for` impreme cada caracter una vez en cada elemento dentro de la variable `dia`.\n",
    "\n",
    "La palabra `elem` va iterando segun la longirud de la variable `dia` y cada vez que recorre un elemento, incrementa en un elemento a la variable `cont` que contiene al final el conteo total de la longitud de la variable `dia`"
   ]
  },
  {
   "cell_type": "code",
   "execution_count": 85,
   "id": "28833b20-21c7-4a8b-acfe-d2664f55731b",
   "metadata": {
    "tags": []
   },
   "outputs": [
    {
     "name": "stdout",
     "output_type": "stream",
     "text": [
      "0\n",
      "1\n",
      "2\n",
      "3\n",
      "4\n",
      "5\n",
      "6\n"
     ]
    }
   ],
   "source": [
    "for num in range(len(dia)):\n",
    "    print(num)"
   ]
  },
  {
   "cell_type": "markdown",
   "id": "b7b14e40-b412-4a1c-9f21-ff452a5c1cf3",
   "metadata": {},
   "source": [
    "La sentencia anterior hace uso de la función `len` que se encarga de obtener la longitud de la variable `dia`, aqui no imprimimos los caracteres contenidos dentro de la variable anterior. \n",
    "\n",
    "Con el uso de la palabra reservada `range` le damos la instrucción de iterar el numero de veces equivalente a la longitud de `dia` y nos muestra el conteo de 0 a 6 y no los caracteres dentro de `dia`, va de 0 a 6 ya que aunque `viernes` contiene 7 letras, Python comienza a contar desde 0.\n",
    "\n",
    "#### Más acerca de range \n",
    "`range` acepta 1, 2 o 3 parámetros."
   ]
  },
  {
   "cell_type": "code",
   "execution_count": 96,
   "id": "440b9481-392c-4ba3-b2aa-42315c8900bb",
   "metadata": {
    "tags": []
   },
   "outputs": [
    {
     "name": "stdout",
     "output_type": "stream",
     "text": [
      "0\n",
      "1\n",
      "2\n",
      "3\n",
      "4\n"
     ]
    }
   ],
   "source": [
    "#Solo un parámetro:\n",
    "for chart in range(5):\n",
    "    print(chart)\n",
    "    \n",
    "    ''' imprimimos el rango desde 0 hasta range(n) '''"
   ]
  },
  {
   "cell_type": "code",
   "execution_count": 99,
   "id": "b344702e-2456-4a94-b35e-e3cebd92c4a3",
   "metadata": {
    "tags": []
   },
   "outputs": [
    {
     "name": "stdout",
     "output_type": "stream",
     "text": [
      "10\n",
      "11\n",
      "12\n",
      "13\n",
      "14\n",
      "15\n",
      "16\n",
      "17\n",
      "18\n"
     ]
    }
   ],
   "source": [
    "# Dando dos parámetros:\n",
    "for chart in range(10,19):\n",
    "    print(chart)\n",
    "    ''' Aqui comienza desde el primer parámetro (m) dado hasta el segundo (n), range(m,n-1)'''"
   ]
  },
  {
   "cell_type": "code",
   "execution_count": 108,
   "id": "d6d62a59-351c-4876-9733-eb2379854d79",
   "metadata": {
    "tags": []
   },
   "outputs": [
    {
     "name": "stdout",
     "output_type": "stream",
     "text": [
      "0\n",
      "25\n",
      "50\n",
      "75\n"
     ]
    }
   ],
   "source": [
    "# Dandole tres parámetros:\n",
    "for chart in range (0,100,25):\n",
    "    print(chart)\n",
    "    ''' Aqui de nuevo comenzamos desde el primer parámetro (m) hasta el segundo (n), pero con \n",
    "    salto de longitud (l-1), en este caso va de 0 hasta 100 cada 25 valores sin tomar el 100 '''"
   ]
  },
  {
   "cell_type": "code",
   "execution_count": 51,
   "id": "e83207f4-1527-489c-bc21-3bcdd4145235",
   "metadata": {
    "tags": []
   },
   "outputs": [
    {
     "name": "stdout",
     "output_type": "stream",
     "text": [
      "0\n",
      "1\n",
      "2\n",
      "3\n",
      "4\n",
      "5\n",
      "6\n",
      "Superamos el numero de entradas\n"
     ]
    }
   ],
   "source": [
    "cont = 0\n",
    "for ii in range(10):\n",
    "    print (ii)\n",
    "    if ii >= 6:\n",
    "        print('Superamos el numero de entradas')\n",
    "        break\n",
    "    else :\n",
    "        cont +=1\n",
    "        "
   ]
  },
  {
   "cell_type": "code",
   "execution_count": 118,
   "id": "cbfe60a8-9add-4ff2-80d6-f2e681452b5e",
   "metadata": {
    "tags": []
   },
   "outputs": [
    {
     "name": "stdout",
     "output_type": "stream",
     "text": [
      "8\n"
     ]
    }
   ],
   "source": [
    "cont = 0\n",
    "for ii in range(4):\n",
    "    cont += 1\n",
    "print(2*cont)"
   ]
  }
 ],
 "metadata": {
  "kernelspec": {
   "display_name": "Python 3 (ipykernel)",
   "language": "python",
   "name": "python3"
  },
  "language_info": {
   "codemirror_mode": {
    "name": "ipython",
    "version": 3
   },
   "file_extension": ".py",
   "mimetype": "text/x-python",
   "name": "python",
   "nbconvert_exporter": "python",
   "pygments_lexer": "ipython3",
   "version": "3.8.17"
  }
 },
 "nbformat": 4,
 "nbformat_minor": 5
}
